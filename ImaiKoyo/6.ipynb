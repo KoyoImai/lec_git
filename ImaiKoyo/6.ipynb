{
  "nbformat": 4,
  "nbformat_minor": 0,
  "metadata": {
    "colab": {
      "provenance": []
    },
    "kernelspec": {
      "name": "python3",
      "display_name": "Python 3"
    },
    "language_info": {
      "name": "python"
    }
  },
  "cells": [
    {
      "cell_type": "markdown",
      "source": [
        "# 課題1"
      ],
      "metadata": {
        "id": "Tu9kqopC808U"
      }
    },
    {
      "cell_type": "code",
      "execution_count": 14,
      "metadata": {
        "id": "8RumPHJflfSm"
      },
      "outputs": [],
      "source": [
        "a = ['m', 'c', 'i', 'e', 'p', 'r', 'e', 't', 'o', ' ' , 'o', 'o', 'i', 's', 'g', 'o', 'p']\n",
        "b = ['a', 'h', 'n', ' ' , 'e', 'c', 'p', 'i', 'n', 'r', 'b', 't', 'c', '-', 'r', 'u', '!']"
      ]
    },
    {
      "cell_type": "code",
      "source": [
        "#text = []\n",
        "#for n, m in zip(a, b):\n",
        "#  text.append(n)\n",
        "#  text.append(m)"
      ],
      "metadata": {
        "id": "MjqoEBNEAYEt"
      },
      "execution_count": 32,
      "outputs": []
    },
    {
      "cell_type": "code",
      "source": [
        "text = []\n",
        "text = [m + n for m, n in zip(a,b)]"
      ],
      "metadata": {
        "id": "sZJ56u0xCiPv"
      },
      "execution_count": 33,
      "outputs": []
    },
    {
      "cell_type": "code",
      "source": [
        "for ch in text:\n",
        "    print(ch, end=\"\")"
      ],
      "metadata": {
        "colab": {
          "base_uri": "https://localhost:8080/"
        },
        "id": "a1nT1_5hA_AP",
        "outputId": "ba475647-42d4-4f80-e607-07afe463c486"
      },
      "execution_count": 30,
      "outputs": [
        {
          "output_type": "stream",
          "name": "stdout",
          "text": [
            "machine perception robotics-group!"
          ]
        }
      ]
    },
    {
      "cell_type": "markdown",
      "source": [
        "# 課題2"
      ],
      "metadata": {
        "id": "sJg_NIiVBgHU"
      }
    },
    {
      "cell_type": "markdown",
      "source": [
        "2-1"
      ],
      "metadata": {
        "id": "sk9SzNzICQXi"
      }
    },
    {
      "cell_type": "code",
      "source": [
        "import numpy as np\n",
        "math = np.array([40, 15, 72, 22, 43, 82, 75, 7, 34, 49, 95, 75, 85, 47, 63])\n",
        "border = 70"
      ],
      "metadata": {
        "id": "ou4HGdUCBR1h"
      },
      "execution_count": 62,
      "outputs": []
    },
    {
      "cell_type": "code",
      "source": [
        "print(math)\n",
        "print(math[math>50])\n",
        "(math > 70)"
      ],
      "metadata": {
        "colab": {
          "base_uri": "https://localhost:8080/"
        },
        "id": "F7FfY7bXCCLU",
        "outputId": "d222ad08-7c0a-4e7d-a096-02a07c7f38d4"
      },
      "execution_count": 63,
      "outputs": [
        {
          "output_type": "stream",
          "name": "stdout",
          "text": [
            "[40 15 72 22 43 82 75  7 34 49 95 75 85 47 63]\n",
            "[72 82 75 95 75 85 63]\n"
          ]
        },
        {
          "output_type": "execute_result",
          "data": {
            "text/plain": [
              "array([False, False,  True, False, False,  True,  True, False, False,\n",
              "       False,  True,  True,  True, False, False])"
            ]
          },
          "metadata": {},
          "execution_count": 63
        }
      ]
    },
    {
      "cell_type": "code",
      "source": [
        "pass70 = len(math[(math >= 70)])\n",
        "pass70"
      ],
      "metadata": {
        "colab": {
          "base_uri": "https://localhost:8080/"
        },
        "id": "rXnMcMmRMZGz",
        "outputId": "9945073f-1f46-4322-af29-ded815297e63"
      },
      "execution_count": 64,
      "outputs": [
        {
          "output_type": "execute_result",
          "data": {
            "text/plain": [
              "6"
            ]
          },
          "metadata": {},
          "execution_count": 64
        }
      ]
    },
    {
      "cell_type": "markdown",
      "source": [
        "2-2"
      ],
      "metadata": {
        "id": "J5ppT6mqgqPe"
      }
    },
    {
      "cell_type": "code",
      "source": [
        "Z = np.std(math)\n",
        "Z"
      ],
      "metadata": {
        "colab": {
          "base_uri": "https://localhost:8080/"
        },
        "id": "fSvfVopoPywe",
        "outputId": "599e0060-7349-4189-e4df-e6b0f47d54ee"
      },
      "execution_count": 65,
      "outputs": [
        {
          "output_type": "execute_result",
          "data": {
            "text/plain": [
              "26.147785119712655"
            ]
          },
          "metadata": {},
          "execution_count": 65
        }
      ]
    },
    {
      "cell_type": "markdown",
      "source": [
        "# 課題3"
      ],
      "metadata": {
        "id": "m6zZkzxggjJi"
      }
    },
    {
      "cell_type": "code",
      "source": [
        "import numpy as np\n",
        "import matplotlib.pyplot as plt\n",
        "x = np.arange(-5.0, 5.0, 0.1)"
      ],
      "metadata": {
        "id": "2L6xM3q6Qk8B"
      },
      "execution_count": 93,
      "outputs": []
    },
    {
      "cell_type": "code",
      "source": [
        "def sigmoid(x):\n",
        "  return 1 / (1 + np.exp(-x))\n",
        "\n",
        "def softmax(x):\n",
        "  return np.exp(x)/np.sum(np.exp(x))\n",
        "\n",
        "def tanh(x):\n",
        "  return (np.exp(x) -np.exp(-x))/(np.exp(x) + np.exp(-x))"
      ],
      "metadata": {
        "id": "tyemacHJjn75"
      },
      "execution_count": 94,
      "outputs": []
    },
    {
      "cell_type": "code",
      "source": [
        "y_sigmoid = sigmoid(x)\n",
        "y_softmax = softmax(x)\n",
        "y_tanh = tanh(x)\n",
        "\n",
        "plt.plot(x, y_sigmoid, label=\"sigmoid\")\n",
        "plt.plot(x, y_softmax, label=\"softmax\")\n",
        "plt.plot(x, y_tanh, label=\"tanh\")\n",
        "\n",
        "plt.xlim(-5.0, 5.0, 0.1)\n",
        "plt.ylim(-1.2, 1.2)\n",
        "\n",
        "plt.xlabel(\"x\")\n",
        "plt.ylabel(\"y\")\n",
        "\n",
        "plt.grid()\n",
        "plt.legend()\n",
        "\n",
        "plt.show()"
      ],
      "metadata": {
        "colab": {
          "base_uri": "https://localhost:8080/",
          "height": 314
        },
        "id": "0oPPDWX7hEy9",
        "outputId": "92ae552b-7a1c-45a5-9e06-5a012c847a13"
      },
      "execution_count": 95,
      "outputs": [
        {
          "output_type": "stream",
          "name": "stderr",
          "text": [
            "<ipython-input-95-a28547d18d03>:9: MatplotlibDeprecationWarning: Passing the emit parameter of set_xlim() positionally is deprecated since Matplotlib 3.6; the parameter will become keyword-only two minor releases later.\n",
            "  plt.xlim(-5.0, 5.0, 0.1)\n"
          ]
        },
        {
          "output_type": "display_data",
          "data": {
            "text/plain": [
              "<Figure size 432x288 with 1 Axes>"
            ],
            "image/png": "[encoded data removed]"
          },
          "metadata": {
            "needs_background": "light"
          }
        }
      ]
    },
    {
      "cell_type": "code",
      "source": [],
      "metadata": {
        "id": "R6HVyCxRjA_S"
      },
      "execution_count": null,
      "outputs": []
    }
  ]
}